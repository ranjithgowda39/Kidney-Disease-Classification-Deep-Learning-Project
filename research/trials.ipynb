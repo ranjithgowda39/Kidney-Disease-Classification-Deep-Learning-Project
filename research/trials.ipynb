{
 "cells": [
  {
   "cell_type": "markdown",
   "id": "03848d5f",
   "metadata": {},
   "source": [
    "## Download data from gdrive"
   ]
  },
  {
   "cell_type": "code",
   "execution_count": 1,
   "id": "0846574a",
   "metadata": {},
   "outputs": [],
   "source": [
    "## Dataset drive link :\n",
    "## https://drive.google.com/file/d/1v2lrZ65u8pzyOXcfmhEXyZ-6p5AYII5F/view?usp=sharing"
   ]
  },
  {
   "cell_type": "code",
   "execution_count": 2,
   "id": "2862c07c",
   "metadata": {},
   "outputs": [],
   "source": [
    "import gdown "
   ]
  },
  {
   "cell_type": "code",
   "execution_count": 3,
   "id": "98463df5",
   "metadata": {},
   "outputs": [],
   "source": [
    "url = \"https://drive.google.com/file/d/1v2lrZ65u8pzyOXcfmhEXyZ-6p5AYII5F/view?usp=sharing\""
   ]
  },
  {
   "cell_type": "code",
   "execution_count": 4,
   "id": "9a4e636b",
   "metadata": {},
   "outputs": [
    {
     "data": {
      "text/plain": [
       "'1v2lrZ65u8pzyOXcfmhEXyZ-6p5AYII5F'"
      ]
     },
     "execution_count": 4,
     "metadata": {},
     "output_type": "execute_result"
    }
   ],
   "source": [
    "file_id = url.split('/')[-2]\n",
    "file_id"
   ]
  },
  {
   "cell_type": "code",
   "execution_count": 5,
   "id": "e96f3327",
   "metadata": {},
   "outputs": [
    {
     "name": "stderr",
     "output_type": "stream",
     "text": [
      "Downloading...\n",
      "From (original): https://drive.google.com/uc?/export=download&id=1v2lrZ65u8pzyOXcfmhEXyZ-6p5AYII5F\n",
      "From (redirected): https://drive.google.com/uc?%2Fexport=download&id=1v2lrZ65u8pzyOXcfmhEXyZ-6p5AYII5F&confirm=t&uuid=02e63d4f-549d-4eeb-8654-8573d265586a\n",
      "To: c:\\Users\\USER\\Desktop\\Practice DL End End Projects\\Kidney-Disease-Classification-Deep-Learning-Project\\research\\kidney-CT-Scan-data.zip\n",
      "100%|██████████| 57.7M/57.7M [00:07<00:00, 7.23MB/s]\n"
     ]
    },
    {
     "data": {
      "text/plain": [
       "'kidney-CT-Scan-data.zip'"
      ]
     },
     "execution_count": 5,
     "metadata": {},
     "output_type": "execute_result"
    }
   ],
   "source": [
    "prefix = 'https://drive.google.com/uc?/export=download&id='\n",
    "gdown.download(prefix+file_id, \"kidney-CT-Scan-data.zip\")"
   ]
  },
  {
   "cell_type": "code",
   "execution_count": null,
   "id": "f2c00e9c",
   "metadata": {},
   "outputs": [],
   "source": []
  }
 ],
 "metadata": {
  "kernelspec": {
   "display_name": "kidney",
   "language": "python",
   "name": "python3"
  },
  "language_info": {
   "codemirror_mode": {
    "name": "ipython",
    "version": 3
   },
   "file_extension": ".py",
   "mimetype": "text/x-python",
   "name": "python",
   "nbconvert_exporter": "python",
   "pygments_lexer": "ipython3",
   "version": "3.10.18"
  }
 },
 "nbformat": 4,
 "nbformat_minor": 5
}
